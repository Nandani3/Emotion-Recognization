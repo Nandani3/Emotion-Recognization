{
  "cells": [
    {
      "cell_type": "markdown",
      "metadata": {
        "id": "view-in-github",
        "colab_type": "text"
      },
      "source": [
        "<a href=\"https://colab.research.google.com/github/Nandani3/Emotion-Recognization/blob/main/creditScore1.ipynb\" target=\"_parent\"><img src=\"https://colab.research.google.com/assets/colab-badge.svg\" alt=\"Open In Colab\"/></a>"
      ]
    },
    {
      "cell_type": "code",
      "execution_count": null,
      "metadata": {
        "id": "Nj4S69j2PpKt"
      },
      "outputs": [],
      "source": [
        "import pandas as pd\n",
        "import numpy as np\n",
        "import matplotlib.pyplot as plt\n",
        "import seaborn as sns\n",
        "\n",
        "from sklearn.model_selection import train_test_split\n",
        "from sklearn.ensemble import RandomForestClassifier\n",
        "from sklearn.linear_model import LogisticRegression\n",
        "from sklearn.metrics import accuracy_score, classification_report, confusion_matrix\n",
        "from sklearn.preprocessing import StandardScaler, LabelEncoder\n",
        "\n",
        "import joblib\n"
      ]
    },
    {
      "cell_type": "code",
      "execution_count": null,
      "metadata": {
        "id": "gFRpM3hdP1Iw",
        "outputId": "84b1ed1a-66a2-4e55-b1dc-f8250c0bae27",
        "colab": {
          "base_uri": "https://localhost:8080/"
        },
        "collapsed": true
      },
      "outputs": [
        {
          "output_type": "stream",
          "name": "stdout",
          "text": [
            "                status  duration                            credit_history  \\\n",
            "0         ... < 100 DM         6   critical account/other credits existing   \n",
            "1    0 <= ... < 200 DM        48  existing credits paid back duly till now   \n",
            "2  no checking account        12   critical account/other credits existing   \n",
            "3         ... < 100 DM        42  existing credits paid back duly till now   \n",
            "4         ... < 100 DM        24           delay in paying off in the past   \n",
            "\n",
            "               purpose  amount                     savings  \\\n",
            "0  domestic appliances    1169  unknown/no savings account   \n",
            "1  domestic appliances    5951                ... < 100 DM   \n",
            "2           retraining    2096                ... < 100 DM   \n",
            "3     radio/television    7882                ... < 100 DM   \n",
            "4            car (new)    4870                ... < 100 DM   \n",
            "\n",
            "  employment_duration  installment_rate                  personal_status_sex  \\\n",
            "0      ... >= 7 years                 4                        male : single   \n",
            "1  1 <= ... < 4 years                 2  female : divorced/separated/married   \n",
            "2  4 <= ... < 7 years                 2                        male : single   \n",
            "3  4 <= ... < 7 years                 2                        male : single   \n",
            "4  1 <= ... < 4 years                 3                        male : single   \n",
            "\n",
            "  other_debtors  ...                                           property age  \\\n",
            "0          none  ...                                        real estate  67   \n",
            "1          none  ...                                        real estate  22   \n",
            "2          none  ...                                        real estate  49   \n",
            "3     guarantor  ...  building society savings agreement/life insurance  45   \n",
            "4          none  ...                                unknown/no property  53   \n",
            "\n",
            "   other_installment_plans   housing number_credits  \\\n",
            "0                     none       own              2   \n",
            "1                     none       own              1   \n",
            "2                     none       own              1   \n",
            "3                     none  for free              1   \n",
            "4                     none  for free              2   \n",
            "\n",
            "                         job people_liable  telephone foreign_worker  \\\n",
            "0  skilled employee/official             1        yes            yes   \n",
            "1  skilled employee/official             1         no            yes   \n",
            "2       unskilled - resident             2         no            yes   \n",
            "3  skilled employee/official             2         no            yes   \n",
            "4  skilled employee/official             2         no            yes   \n",
            "\n",
            "  credit_risk  \n",
            "0           1  \n",
            "1           0  \n",
            "2           1  \n",
            "3           1  \n",
            "4           0  \n",
            "\n",
            "[5 rows x 21 columns]\n",
            "status                     0\n",
            "duration                   0\n",
            "credit_history             0\n",
            "purpose                    0\n",
            "amount                     0\n",
            "savings                    0\n",
            "employment_duration        0\n",
            "installment_rate           0\n",
            "personal_status_sex        0\n",
            "other_debtors              0\n",
            "present_residence          0\n",
            "property                   0\n",
            "age                        0\n",
            "other_installment_plans    0\n",
            "housing                    0\n",
            "number_credits             0\n",
            "job                        0\n",
            "people_liable              0\n",
            "telephone                  0\n",
            "foreign_worker             0\n",
            "credit_risk                0\n",
            "dtype: int64\n"
          ]
        }
      ],
      "source": [
        "\n",
        "data = pd.read_csv('GermanCredit.csv')\n",
        "print(data.head())\n",
        "print(data.isnull().sum())\n"
      ]
    },
    {
      "cell_type": "code",
      "execution_count": null,
      "metadata": {
        "id": "5yxzKyLxm3E0",
        "outputId": "2aa12b40-a18d-4d50-ae19-df738f9ef7c3",
        "colab": {
          "base_uri": "https://localhost:8080/"
        },
        "collapsed": true
      },
      "outputs": [
        {
          "output_type": "stream",
          "name": "stdout",
          "text": [
            "<class 'pandas.core.frame.DataFrame'>\n",
            "RangeIndex: 1000 entries, 0 to 999\n",
            "Data columns (total 21 columns):\n",
            " #   Column                   Non-Null Count  Dtype \n",
            "---  ------                   --------------  ----- \n",
            " 0   status                   1000 non-null   object\n",
            " 1   duration                 1000 non-null   int64 \n",
            " 2   credit_history           1000 non-null   object\n",
            " 3   purpose                  1000 non-null   object\n",
            " 4   amount                   1000 non-null   int64 \n",
            " 5   savings                  1000 non-null   object\n",
            " 6   employment_duration      1000 non-null   object\n",
            " 7   installment_rate         1000 non-null   int64 \n",
            " 8   personal_status_sex      1000 non-null   object\n",
            " 9   other_debtors            1000 non-null   object\n",
            " 10  present_residence        1000 non-null   int64 \n",
            " 11  property                 1000 non-null   object\n",
            " 12  age                      1000 non-null   int64 \n",
            " 13  other_installment_plans  1000 non-null   object\n",
            " 14  housing                  1000 non-null   object\n",
            " 15  number_credits           1000 non-null   int64 \n",
            " 16  job                      1000 non-null   object\n",
            " 17  people_liable            1000 non-null   int64 \n",
            " 18  telephone                1000 non-null   object\n",
            " 19  foreign_worker           1000 non-null   object\n",
            " 20  credit_risk              1000 non-null   int64 \n",
            "dtypes: int64(8), object(13)\n",
            "memory usage: 164.2+ KB\n"
          ]
        }
      ],
      "source": [
        "data.info()"
      ]
    },
    {
      "cell_type": "code",
      "execution_count": null,
      "metadata": {
        "id": "f3ArN0a_Pdi2",
        "colab": {
          "base_uri": "https://localhost:8080/"
        },
        "collapsed": true,
        "outputId": "ef8bbc08-bec8-4bbd-961e-f107a7743eb1"
      },
      "outputs": [
        {
          "output_type": "stream",
          "name": "stderr",
          "text": [
            "<ipython-input-44-4a310d5dc89a>:2: FutureWarning: A value is trying to be set on a copy of a DataFrame or Series through chained assignment using an inplace method.\n",
            "The behavior will change in pandas 3.0. This inplace method will never work because the intermediate object on which we are setting values always behaves as a copy.\n",
            "\n",
            "For example, when doing 'df[col].method(value, inplace=True)', try using 'df.method({col: value}, inplace=True)' or df[col] = df[col].method(value) instead, to perform the operation inplace on the original object.\n",
            "\n",
            "\n",
            "  data[col].fillna(data[col].median(), inplace=True)\n",
            "<ipython-input-44-4a310d5dc89a>:6: FutureWarning: A value is trying to be set on a copy of a DataFrame or Series through chained assignment using an inplace method.\n",
            "The behavior will change in pandas 3.0. This inplace method will never work because the intermediate object on which we are setting values always behaves as a copy.\n",
            "\n",
            "For example, when doing 'df[col].method(value, inplace=True)', try using 'df.method({col: value}, inplace=True)' or df[col] = df[col].method(value) instead, to perform the operation inplace on the original object.\n",
            "\n",
            "\n",
            "  data[col].fillna(data[col].mode()[0], inplace=True)\n"
          ]
        }
      ],
      "source": [
        "\n",
        "for col in data.select_dtypes(include=['float64', 'int64']).columns:\n",
        "    data[col].fillna(data[col].median(), inplace=True)\n",
        "\n",
        "\n",
        "for col in data.select_dtypes(include=['object']).columns:\n",
        "    data[col].fillna(data[col].mode()[0], inplace=True)\n"
      ]
    },
    {
      "cell_type": "code",
      "execution_count": null,
      "metadata": {
        "id": "rdzl6ElLaK_V"
      },
      "outputs": [],
      "source": [
        "\n",
        "encoder = LabelEncoder()\n",
        "for col in data.select_dtypes(include=['object']).columns:\n",
        "    data[col] = encoder.fit_transform(data[col])\n"
      ]
    },
    {
      "cell_type": "code",
      "execution_count": null,
      "metadata": {
        "id": "ukzIV4pCSrWZ"
      },
      "outputs": [],
      "source": [
        "\n",
        "X = data.drop('credit_risk', axis=1)\n",
        "y = data['credit_risk']\n"
      ]
    },
    {
      "cell_type": "code",
      "execution_count": null,
      "metadata": {
        "id": "ZjLqegyyTVDD"
      },
      "outputs": [],
      "source": [
        "scaler = StandardScaler()\n",
        "X = scaler.fit_transform(X)\n",
        "\n"
      ]
    },
    {
      "cell_type": "code",
      "execution_count": null,
      "metadata": {
        "id": "Af8iRHIgVjGp",
        "outputId": "b0dab3ea-9c5f-4e52-fb9a-f858a081bcdc",
        "collapsed": true,
        "colab": {
          "base_uri": "https://localhost:8080/"
        }
      },
      "outputs": [
        {
          "output_type": "stream",
          "name": "stdout",
          "text": [
            "X_train: [[-1.45295342  3.243815   -0.20592322 ... -0.42828957  1.21459768\n",
            "   0.19601428]\n",
            " [-0.63806087  0.00804793 -1.14621191 ... -0.42828957 -0.82331789\n",
            "   0.19601428]\n",
            " [ 0.99172423 -1.23647786  0.73436546 ... -0.42828957 -0.82331789\n",
            "   0.19601428]\n",
            " ...\n",
            " [ 0.99172423  0.25695309 -1.14621191 ... -0.42828957 -0.82331789\n",
            "   0.19601428]\n",
            " [ 0.17683168 -0.73866754  0.73436546 ... -0.42828957  1.21459768\n",
            "   0.19601428]\n",
            " [ 0.99172423 -1.23647786 -0.20592322 ... -0.42828957 -0.82331789\n",
            "   0.19601428]]\n",
            "X_test: [[-1.45295342 -0.24085723  0.73436546 ... -0.42828957 -0.82331789\n",
            "   0.19601428]\n",
            " [-1.45295342 -0.24085723  0.73436546 ...  2.33486893  1.21459768\n",
            "   0.19601428]\n",
            " [-1.45295342  0.25695309 -2.08650059 ... -0.42828957 -0.82331789\n",
            "   0.19601428]\n",
            " ...\n",
            " [-1.45295342  0.25695309  0.73436546 ... -0.42828957 -0.82331789\n",
            "   0.19601428]\n",
            " [-1.45295342  0.25695309 -2.08650059 ... -0.42828957 -0.82331789\n",
            "  -5.10166904]\n",
            " [ 0.99172423  2.74600468  1.67465415 ...  2.33486893 -0.82331789\n",
            "   0.19601428]]\n",
            "y_train: 29     0\n",
            "535    0\n",
            "695    1\n",
            "557    0\n",
            "836    1\n",
            "      ..\n",
            "106    0\n",
            "270    1\n",
            "860    1\n",
            "435    0\n",
            "102    1\n",
            "Name: credit_risk, Length: 800, dtype: int64\n",
            "y_test: 521    0\n",
            "737    1\n",
            "740    1\n",
            "660    1\n",
            "411    1\n",
            "      ..\n",
            "408    1\n",
            "332    0\n",
            "208    1\n",
            "613    1\n",
            "78     1\n",
            "Name: credit_risk, Length: 200, dtype: int64\n"
          ]
        }
      ],
      "source": [
        "X_train, X_test, y_train, y_test = train_test_split(X, y, test_size=0.2, random_state=42)\n",
        "\n",
        "print(\"X_train:\", X_train)\n",
        "print(\"X_test:\", X_test)\n",
        "print(\"y_train:\", y_train)\n",
        "print(\"y_test:\", y_test)\n"
      ]
    },
    {
      "cell_type": "code",
      "execution_count": null,
      "metadata": {
        "id": "mAwe9IRclGiV",
        "outputId": "295287ba-f6df-4f3c-ad50-d788d854d46e",
        "colab": {
          "base_uri": "https://localhost:8080/"
        },
        "collapsed": true
      },
      "outputs": [
        {
          "output_type": "stream",
          "name": "stdout",
          "text": [
            "Logistic Regression Accuracy: 0.7462\n",
            "Random Forest Accuracy: 1.0000\n"
          ]
        }
      ],
      "source": [
        "from sklearn.metrics import accuracy_score\n",
        "from sklearn.linear_model import LogisticRegression\n",
        "from sklearn.ensemble import RandomForestClassifier\n",
        "from sklearn.model_selection import train_test_split\n",
        "\n",
        "\n",
        "\n",
        "logistic_model = LogisticRegression()\n",
        "logistic_model.fit(X_train, y_train)\n",
        "\n",
        "\n",
        "rf_model = RandomForestClassifier(\n",
        "    max_depth=20,\n",
        "    min_samples_leaf=1,\n",
        "    min_samples_split=2,\n",
        "    n_estimators=200\n",
        ")\n",
        "rf_model.fit(X_train, y_train)\n",
        "\n",
        "\n",
        "logistic_predictions = logistic_model.predict(X_train)\n",
        "rf_predictions = rf_model.predict(X_train)\n",
        "\n",
        "logistic_accuracy = accuracy_score(y_train, logistic_predictions)\n",
        "rf_accuracy = accuracy_score(y_train, rf_predictions)\n",
        "\n",
        "print(f\"Logistic Regression Accuracy: {logistic_accuracy:.4f}\")\n",
        "print(f\"Random Forest Accuracy: {rf_accuracy:.4f}\")\n",
        "\n"
      ]
    },
    {
      "cell_type": "code",
      "execution_count": null,
      "metadata": {
        "id": "WaXTXaHslGiV",
        "outputId": "695d70a9-b170-45c8-f584-79353f426905",
        "colab": {
          "base_uri": "https://localhost:8080/"
        },
        "collapsed": true
      },
      "outputs": [
        {
          "output_type": "stream",
          "name": "stdout",
          "text": [
            "Logistic Regression Accuracy: 0.745\n",
            "Random Forest Accuracy: 0.76\n"
          ]
        }
      ],
      "source": [
        "\n",
        "logistic_predictions = logistic_model.predict(X_test)\n",
        "rf_predictions = rf_model.predict(X_test)\n",
        "\n",
        "\n",
        "logistic_accuracy = accuracy_score(y_test, logistic_predictions)\n",
        "rf_accuracy = accuracy_score(y_test, rf_predictions)\n",
        "\n",
        "print(f'Logistic Regression Accuracy: {logistic_accuracy}')\n",
        "print(f'Random Forest Accuracy: {rf_accuracy}')\n"
      ]
    },
    {
      "cell_type": "code",
      "execution_count": null,
      "metadata": {
        "id": "D7tr_zzglGiV",
        "outputId": "0fb0099d-86e3-463b-8e81-28b46d43c79f",
        "colab": {
          "base_uri": "https://localhost:8080/"
        },
        "collapsed": true
      },
      "outputs": [
        {
          "output_type": "stream",
          "name": "stdout",
          "text": [
            "Logistic Regression Classification Report:\n",
            "              precision    recall  f1-score   support\n",
            "\n",
            "           0       0.61      0.37      0.46        59\n",
            "           1       0.77      0.90      0.83       141\n",
            "\n",
            "    accuracy                           0.74       200\n",
            "   macro avg       0.69      0.64      0.65       200\n",
            "weighted avg       0.73      0.74      0.72       200\n",
            "\n",
            "Random Forest Classification Report:\n",
            "              precision    recall  f1-score   support\n",
            "\n",
            "           0       0.67      0.37      0.48        59\n",
            "           1       0.78      0.92      0.84       141\n",
            "\n",
            "    accuracy                           0.76       200\n",
            "   macro avg       0.72      0.65      0.66       200\n",
            "weighted avg       0.75      0.76      0.74       200\n",
            "\n",
            "Logistic Regression Confusion Matrix:\n",
            "[[ 22  37]\n",
            " [ 14 127]]\n",
            "Random Forest Confusion Matrix:\n",
            "[[ 22  37]\n",
            " [ 11 130]]\n"
          ]
        }
      ],
      "source": [
        "from sklearn.metrics import classification_report, confusion_matrix\n",
        "\n",
        "print(\"Logistic Regression Classification Report:\")\n",
        "print(classification_report(y_test, logistic_predictions))\n",
        "\n",
        "print(\"Random Forest Classification Report:\")\n",
        "print(classification_report(y_test, rf_predictions))\n",
        "\n",
        "# Confusion Matrices\n",
        "print(\"Logistic Regression Confusion Matrix:\")\n",
        "print(confusion_matrix(y_test, logistic_predictions))\n",
        "\n",
        "print(\"Random Forest Confusion Matrix:\")\n",
        "print(confusion_matrix(y_test, rf_predictions))\n"
      ]
    },
    {
      "cell_type": "code",
      "execution_count": null,
      "metadata": {
        "id": "zMioWLm1lGiW",
        "outputId": "548c64f2-81f3-4969-8b40-32a3a98fb265",
        "colab": {
          "base_uri": "https://localhost:8080/"
        },
        "collapsed": true
      },
      "outputs": [
        {
          "output_type": "execute_result",
          "data": {
            "text/plain": [
              "['credit_score_model.pkl']"
            ]
          },
          "metadata": {},
          "execution_count": 52
        }
      ],
      "source": [
        "joblib.dump(rf_model, 'credit_score_model.pkl')  # Save Random Forest model\n"
      ]
    },
    {
      "cell_type": "code",
      "execution_count": null,
      "metadata": {
        "id": "0tx3PzDmlGiW",
        "outputId": "82822844-d9ba-4746-8f34-afe1012b60c4",
        "colab": {
          "base_uri": "https://localhost:8080/"
        },
        "collapsed": true
      },
      "outputs": [
        {
          "output_type": "stream",
          "name": "stdout",
          "text": [
            "Predicted Credit Risk: [1]\n"
          ]
        }
      ],
      "source": [
        "\n",
        "import joblib\n",
        "import pandas as pd\n",
        "from sklearn.preprocessing import StandardScaler\n",
        "\n",
        "\n",
        "model = joblib.load('credit_score_model.pkl')\n",
        "\n",
        "new_data = pd.DataFrame({\n",
        "    'status': [0],\n",
        "    'duration': [12],\n",
        "    'credit_history': [1],\n",
        "    'purpose': [0],\n",
        "    'amount': [5000],\n",
        "    'savings': [0],\n",
        "    'employment_duration': [3],\n",
        "    'installment_rate': [4],\n",
        "    'personal_status_sex': [1],\n",
        "    'other_debtors': [0],\n",
        "    'present_residence': [1],\n",
        "    'property': [1],\n",
        "    'age': [30],\n",
        "    'other_installment_plans': [0],\n",
        "    'housing': [1],\n",
        "    'number_credits': [2],\n",
        "    'job': [1],\n",
        "    'people_liable': [1],\n",
        "    'telephone': [1],\n",
        "    'foreign_worker': [1]\n",
        "})\n",
        "\n",
        "\n",
        "scaler = StandardScaler()\n",
        "new_data_scaled = scaler.fit_transform(new_data)\n",
        "\n",
        "\n",
        "predictions = model.predict(new_data_scaled)\n",
        "\n",
        "\n",
        "print(\"Predicted Credit Risk:\", predictions)\n"
      ]
    },
    {
      "cell_type": "code",
      "execution_count": null,
      "metadata": {
        "id": "TgM4IcM9lGiW"
      },
      "outputs": [],
      "source": []
    },
    {
      "cell_type": "code",
      "execution_count": null,
      "metadata": {
        "id": "fx29Lt7ElGiW"
      },
      "outputs": [],
      "source": []
    },
    {
      "cell_type": "code",
      "execution_count": null,
      "metadata": {
        "id": "41_hcTeJlGiW"
      },
      "outputs": [],
      "source": []
    },
    {
      "cell_type": "code",
      "execution_count": null,
      "metadata": {
        "id": "wWu69KGmlGiW"
      },
      "outputs": [],
      "source": []
    },
    {
      "cell_type": "code",
      "execution_count": null,
      "metadata": {
        "id": "QOAvpfUdikrX"
      },
      "outputs": [],
      "source": [
        "# from xgboost import XGBClassifier\n",
        "# from sklearn.metrics import accuracy_score\n",
        "\n",
        "# # Train XGBoost classifier\n",
        "# xgb_model = XGBClassifier(n_estimators=100, random_state=42)\n",
        "# xgb_model.fit(X_train, y_train)\n",
        "\n",
        "# xgb_predictions = xgb_model.predict(X_test)\n",
        "# print(\"XGBoost Accuracy:\", accuracy_score(y_test, xgb_predictions))\n"
      ]
    },
    {
      "cell_type": "code",
      "execution_count": null,
      "metadata": {
        "id": "57OjG-RopLnq"
      },
      "outputs": [],
      "source": [
        "# print(\"Confusion Matrix for Random Forest:\")\n",
        "# print(confusion_matrix(y_test, rf_predictions))\n"
      ]
    },
    {
      "cell_type": "code",
      "execution_count": null,
      "metadata": {
        "id": "47oZ-eJMpZ6i"
      },
      "outputs": [],
      "source": [
        "# print(\"Classification Report for Random Forest:\")\n",
        "# print(classification_report(y_test, rf_predictions))\n"
      ]
    },
    {
      "cell_type": "code",
      "execution_count": null,
      "metadata": {
        "id": "HBYQPhFDqhBW"
      },
      "outputs": [],
      "source": [
        "# sns.heatmap(confusion_matrix(y_test, rf_predictions), annot=True, fmt='d', cmap='Blues')\n",
        "# plt.title(\"Confusion Matrix\")\n",
        "# plt.xlabel(\"Predicted\")\n",
        "# plt.ylabel(\"Actual\")\n",
        "# plt.show()\n"
      ]
    },
    {
      "cell_type": "code",
      "execution_count": null,
      "metadata": {
        "id": "T1nHAnTdp-XA"
      },
      "outputs": [],
      "source": [
        "# import joblib\n",
        "# joblib.dump(rf_model, 'credit_scoring_model.pkl')\n"
      ]
    }
  ],
  "metadata": {
    "colab": {
      "provenance": [],
      "include_colab_link": true
    },
    "kernelspec": {
      "display_name": "Python 3 (ipykernel)",
      "language": "python",
      "name": "python3"
    },
    "language_info": {
      "codemirror_mode": {
        "name": "ipython",
        "version": 3
      },
      "file_extension": ".py",
      "mimetype": "text/x-python",
      "name": "python",
      "nbconvert_exporter": "python",
      "pygments_lexer": "ipython3",
      "version": "3.11.7"
    }
  },
  "nbformat": 4,
  "nbformat_minor": 0
}